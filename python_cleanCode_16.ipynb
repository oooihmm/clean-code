{
  "nbformat": 4,
  "nbformat_minor": 0,
  "metadata": {
    "colab": {
      "provenance": [],
      "authorship_tag": "ABX9TyOkAWyoRlQ8Gp6XOJwC9Sez",
      "include_colab_link": true
    },
    "kernelspec": {
      "name": "python3",
      "display_name": "Python 3"
    },
    "language_info": {
      "name": "python"
    }
  },
  "cells": [
    {
      "cell_type": "markdown",
      "metadata": {
        "id": "view-in-github",
        "colab_type": "text"
      },
      "source": [
        "<a href=\"https://colab.research.google.com/github/oooihmm/clean-code/blob/main/python_cleanCode_16.ipynb\" target=\"_parent\"><img src=\"https://colab.research.google.com/assets/colab-badge.svg\" alt=\"Open In Colab\"/></a>"
      ]
    },
    {
      "cell_type": "markdown",
      "source": [
        "# 상속"
      ],
      "metadata": {
        "id": "c09JFdlbfMuS"
      }
    },
    {
      "cell_type": "markdown",
      "source": [
        "클래스들을 부모-자식 관계로 만들어 자식 클래스가 부모 클래스의 메소드 사본을 상속하는 방식\n",
        "\n",
        " => 코드 재사용 기법\n",
        " \n",
        " 상속 기법을 제한적으로 사용하면 코드를 구성할 때 상당한 시간을 절약할 수 있음"
      ],
      "metadata": {
        "id": "HxchRaX1fS4B"
      }
    },
    {
      "cell_type": "code",
      "execution_count": 2,
      "metadata": {
        "id": "sAphNgrlfJtU"
      },
      "outputs": [],
      "source": [
        "class ParentClass:\n",
        "  def printHello(self):\n",
        "    print('Hello world')\n",
        "\n",
        "class ChildClass(ParentClass):\n",
        "  def someNewMethod(self):\n",
        "    print('ParentClass objects dont have this method')\n",
        "\n",
        "class GrandChildClass(ChildClass):\n",
        "  def anotherNewMethod(self):\n",
        "    print('Only GrandChildClass objects have this method')"
      ]
    },
    {
      "cell_type": "code",
      "source": [
        "parent = ParentClass()\n",
        "parent.printHello()"
      ],
      "metadata": {
        "colab": {
          "base_uri": "https://localhost:8080/"
        },
        "id": "8QXTChCa94fO",
        "outputId": "9ca758a7-5096-47c3-df40-2394cf1246eb"
      },
      "execution_count": 3,
      "outputs": [
        {
          "output_type": "stream",
          "name": "stdout",
          "text": [
            "Hello world\n"
          ]
        }
      ]
    },
    {
      "cell_type": "code",
      "source": [
        "child = ChildClass()\n",
        "child.printHello()\n",
        "child.someNewMethod()"
      ],
      "metadata": {
        "colab": {
          "base_uri": "https://localhost:8080/"
        },
        "id": "YrUrWqtC96ET",
        "outputId": "af41a0ac-172f-44d2-e7cc-78b349f954f8"
      },
      "execution_count": 4,
      "outputs": [
        {
          "output_type": "stream",
          "name": "stdout",
          "text": [
            "Hello world\n",
            "ParentClass objects dont have this method\n"
          ]
        }
      ]
    },
    {
      "cell_type": "code",
      "source": [
        "grandchild = GrandChildClass()\n",
        "grandchild.printHello()\n",
        "grandchild.someNewMethod()\n",
        "grandchild.anotherNewMethod()"
      ],
      "metadata": {
        "colab": {
          "base_uri": "https://localhost:8080/"
        },
        "id": "_mx7nzbo98Cg",
        "outputId": "131ff2b8-6290-41ec-9cbe-15b53573fc91"
      },
      "execution_count": 5,
      "outputs": [
        {
          "output_type": "stream",
          "name": "stdout",
          "text": [
            "Hello world\n",
            "ParentClass objects dont have this method\n",
            "Only GrandChildClass objects have this method\n"
          ]
        }
      ]
    },
    {
      "cell_type": "code",
      "source": [
        "parent.someNewMethod()"
      ],
      "metadata": {
        "colab": {
          "base_uri": "https://localhost:8080/",
          "height": 176
        },
        "id": "2Ao-Zd1V9-iE",
        "outputId": "285621f5-e800-4b31-972d-a3b5edcf6630"
      },
      "execution_count": 6,
      "outputs": [
        {
          "output_type": "error",
          "ename": "AttributeError",
          "evalue": "ignored",
          "traceback": [
            "\u001b[0;31m---------------------------------------------------------------------------\u001b[0m",
            "\u001b[0;31mAttributeError\u001b[0m                            Traceback (most recent call last)",
            "\u001b[0;32m<ipython-input-6-3f38fd6adbab>\u001b[0m in \u001b[0;36m<module>\u001b[0;34m\u001b[0m\n\u001b[0;32m----> 1\u001b[0;31m \u001b[0mparent\u001b[0m\u001b[0;34m.\u001b[0m\u001b[0msomeNewMethod\u001b[0m\u001b[0;34m(\u001b[0m\u001b[0;34m)\u001b[0m\u001b[0;34m\u001b[0m\u001b[0;34m\u001b[0m\u001b[0m\n\u001b[0m",
            "\u001b[0;31mAttributeError\u001b[0m: 'ParentClass' object has no attribute 'someNewMethod'"
          ]
        }
      ]
    },
    {
      "cell_type": "markdown",
      "source": [
        "부모 클래스 : 상위 클래스 혹은 기반 클래스\n",
        "\n",
        "자식 클래스 : 하위 클래스 혹은 파생 클래스"
      ],
      "metadata": {
        "id": "YmCp0JQT_dap"
      }
    },
    {
      "cell_type": "markdown",
      "source": [
        "하위 클래스 : 기반 클래스와 동일한 메소드를 모두 가지게 됨 \n",
        "\n",
        "이를 하위 클래스가 기반 클래스로부터 메소드를 상속받는다고 말함\n",
        "\n",
        "기반 클래스의 코드를 변경하면 하위 클래스에게도 모두 갱신된다"
      ],
      "metadata": {
        "id": "t5BSyYLg-NRo"
      }
    },
    {
      "cell_type": "markdown",
      "source": [
        "일반적으로 부모-자식 클래스 : 'is a' 관계\n",
        "\n",
        "자식 객체는 부모가 가진 모든 메소드를 가지고 자신이 정의한 메소드를 추가로 포함\n",
        "\n",
        "이 관계는 일방적이기 때문에 부모 객체는 자식 객체에 대해 'is a'관계가 아님"
      ],
      "metadata": {
        "id": "htzsMphM_II7"
      }
    },
    {
      "cell_type": "markdown",
      "source": [
        "---"
      ],
      "metadata": {
        "id": "RZA1_NnN_lC-"
      }
    },
    {
      "cell_type": "markdown",
      "source": [
        "## 메소드 오버라이드"
      ],
      "metadata": {
        "id": "4YWHyxwd_mej"
      }
    },
    {
      "cell_type": "markdown",
      "source": [
        "자식 클래스는 자체 코드로 구현한 자체 메소드를 제공함으써 상속된 메소드를 오버라이드 할 수 있다.\n",
        "\n",
        "이때 오버라이드한 메소드는 부모 클래스 메소드와 이름이 같다. "
      ],
      "metadata": {
        "id": "1FsJqRVs_p_Z"
      }
    },
    {
      "cell_type": "markdown",
      "source": [
        "메소드 오버라이드를 이용하여 메소드의 사용 방식이 달라질 때마다 클래스를 분리하여 코드의 복잡성을 낮출 수 있다."
      ],
      "metadata": {
        "id": "soIzZCpUGu3z"
      }
    },
    {
      "cell_type": "markdown",
      "source": [
        "### super() 함수\n",
        "\n",
        "중복 코드를 방지하기 위해 사용하는 것으로, 내장 super()함수를 통해 오버라이드 된 메소드가 부모 클래스에 속한 원래의 메소드를 호출하게 만들 수 있다.\n",
        "\n",
        "이는 어떤 클래스가 둘 이상의 부모 메소드를 가질 때 특히 더 유용하다."
      ],
      "metadata": {
        "id": "ln5CGmIHG5Lm"
      }
    },
    {
      "cell_type": "markdown",
      "source": [
        "## 합성"
      ],
      "metadata": {
        "id": "0Rvw9cmsHX1d"
      }
    },
    {
      "cell_type": "markdown",
      "source": [
        "합성 : 클래스 내부의 객체만 포함하고 해당 객체의 클래스는 상속하지 않는 클래스 설계 기법으로, 클래스에 속성으 더할 때 사용한다.\n",
        "\n",
        "'has a'관계 : ~는 ~을 포함한다\n",
        "\n",
        "'has a'관계가 있는 클래스에서는 합성이라는 기법을 사용"
      ],
      "metadata": {
        "id": "Q-DO3Na3HZtx"
      }
    },
    {
      "cell_type": "markdown",
      "source": [
        "**상속**을 받은 경우"
      ],
      "metadata": {
        "id": "BLakPplbJoqG"
      }
    },
    {
      "cell_type": "code",
      "source": [
        "import wizcoin\n",
        "\n",
        "class WizardCustomer(wizcoin.WizCoin):\n",
        "  def __init__(self, name):\n",
        "    self.name = name\n",
        "    super().__init__(0, 0, 0)\n",
        "\n",
        "wizard = WizardCustomer('앨리스')\n",
        "print(f'{wizard.name}은/는 {wizard.value()}크넛만큼의 돈을 가지고 있다.')\n",
        "print(f'{wizard.name}의 보유 동전 무게는 {wizard.weightInGrams()}그램이다')"
      ],
      "metadata": {
        "id": "bm8_wBskJlwq"
      },
      "execution_count": null,
      "outputs": []
    },
    {
      "cell_type": "markdown",
      "source": [
        "WizCoin에서 상속받은 WizardCustomer도 속성으로 WizCoin을 포함하는 WizardCustomer가 할 수 있는 모든 작업을 동일하게 수행할 수 있다..\n",
        "\n",
        "하지만\n",
        "\n",
        "1) 메소드의 이름에 오해의 소지가 있을 수 있다\n",
        "   wizard.value()는 마법사가 보유한 동전이 아니라 마법사 자신의 가치와 무게를 반환할 것 처럼 보인다.\n",
        "\n",
        "2) 동전의 무게로 이미 weightInGrams()라는 메소드 이름이 선점되어 있어 마법사의 몸무게를 추가할 일이 생긴다면 난감해진다"
      ],
      "metadata": {
        "id": "hm7gqaiZJqDj"
      }
    },
    {
      "cell_type": "markdown",
      "source": [
        "**합성**을 통해 WizCoin 객체를 속성으로 가지는 경우"
      ],
      "metadata": {
        "id": "qHbULJeXKPHC"
      }
    },
    {
      "cell_type": "code",
      "source": [
        "import wizcoin\n",
        "\n",
        "class WizardCustomer:\n",
        "  def __init__(self, name):\n",
        "    self.name = name\n",
        "    self.purse = wizcoin.WizCoin(0, 0, 0)\n",
        "\n",
        "wizard = WizardCustomer('앨리스')\n",
        "print(f'{wizard.name}은/는 {wizard.purse.value()}크넛만큼의 돈을 가지고 있다.')\n",
        "print(f'{wizard.name}의 보유 동전 무게는 {wizard.purse.weightInGrams()}그램이다')"
      ],
      "metadata": {
        "id": "xyozUHS6KTPu"
      },
      "execution_count": null,
      "outputs": []
    },
    {
      "cell_type": "markdown",
      "source": [
        "WizardCustomer 클래스가 WizCoin에서 메소드를 상속받는 대신 purse 속성을 부여받으며, purse는 WizCoin 객체를 포함한다.\n",
        "\n",
        "합성을 사용하면 WizCoin 클래스의 메소드를 바꾸어도 WizardCustomer 클래스의 메소드는 바뀌지 않는다."
      ],
      "metadata": {
        "id": "yDykZLDBKjDO"
      }
    },
    {
      "cell_type": "markdown",
      "source": [
        "합성 기법은 두 클래스 모두에 대해 미래의 설계 변경이 더 유연해지며, 유지보수성이 높은 코드를 만들어낸다,"
      ],
      "metadata": {
        "id": "JPEWvE55K8D2"
      }
    },
    {
      "cell_type": "markdown",
      "source": [
        "## 상속의 단점"
      ],
      "metadata": {
        "id": "mI_xI70qLB3x"
      }
    },
    {
      "cell_type": "markdown",
      "source": [
        "미래에 부모 클래스에서 변화가 생기면 필연적으로 자식 클래스가 이를 상속함\n",
        "\n",
        "복잡성과 모순을 지닌 클래스가 생성될 수 있음."
      ],
      "metadata": {
        "id": "U_xyyGz-LDr2"
      }
    },
    {
      "cell_type": "markdown",
      "source": [
        "##isinstance()와 issubclass()"
      ],
      "metadata": {
        "id": "pyf5-U4zNrK8"
      }
    },
    {
      "cell_type": "markdown",
      "source": [
        "ChildClass 객체는 ParentClass 객체에 대해 is a 관계이기 때문에 \n",
        "\n",
        "isinstance()를 통해 child가 ChildClass의 인스턴스이자 ParentClass의 인스턴스임을 알 수 있다."
      ],
      "metadata": {
        "id": "bLmoNONrN1ZU"
      }
    },
    {
      "cell_type": "markdown",
      "source": [
        "issubclass()는 첫번째 인수에 전달된 클래스 객체가 두 번째 인수에 전달된 클래스 객체의 하위 클래스 또는 동인 클래스인지 여부를 식별한다."
      ],
      "metadata": {
        "id": "p07xY-d2O10s"
      }
    },
    {
      "cell_type": "markdown",
      "source": [
        "isinstace()와 issubclass()의 주요 차이점은 전자는 객체 하나와 클래스 객체 하나를 전달하는 반면, 후자는 두 클래스 객체를 전달한다."
      ],
      "metadata": {
        "id": "csrSCdbMPVYj"
      }
    },
    {
      "cell_type": "markdown",
      "source": [
        "## 클래스 메소드"
      ],
      "metadata": {
        "id": "nDMLVrYsPgyX"
      }
    },
    {
      "cell_type": "markdown",
      "source": [
        "클래스 메소드는 다른 클래스 메소드를 호출하거나 클래스 속성에만 접근할 수 있다. \n",
        "\n",
        "class는 파이썬 키워드이기 때문에 파라미터로 사용할 수 없다"
      ],
      "metadata": {
        "id": "UWXhRqmtQU_p"
      }
    },
    {
      "cell_type": "markdown",
      "source": [
        "클래스 메소드의 표식\n",
        "\n",
        "1. def문 앞에 @classmethod 데코레이터가 있다\n",
        "2. cls를 첫번째 파라미터로 사용한다."
      ],
      "metadata": {
        "id": "Azgeq57lPjW6"
      }
    },
    {
      "cell_type": "code",
      "source": [
        "class ExampleClass:\n",
        "  def exampleReaularMethod(self):\n",
        "    print('정규메소드')\n",
        "\n",
        "  @classmethod\n",
        "  def exampleClassMethod(cls):\n",
        "    print('클래스 메소드')\n",
        "\n",
        "ExampleClass.exampleClassMethod() # 클래스 객체를 통해 클래스 속성 호출\n",
        "obj = ExampleClass()\n",
        "obj.exampleClassMethod() # 클래스의 아무 객체를 통해서나 호출할 수 있음\n",
        "obj.__class__.exampleClassMethod()"
      ],
      "metadata": {
        "colab": {
          "base_uri": "https://localhost:8080/"
        },
        "id": "TYsvg7KJPppr",
        "outputId": "804da354-7671-4295-97bf-f5852cd21e76"
      },
      "execution_count": 10,
      "outputs": [
        {
          "output_type": "stream",
          "name": "stdout",
          "text": [
            "클래스 메소드\n",
            "클래스 메소드\n",
            "클래스 메소드\n"
          ]
        }
      ]
    },
    {
      "cell_type": "markdown",
      "source": [
        "self가 객체를 참조하는 반면, cls 파라미터는 객체의 클래스를 참조한다.\n",
        "\n",
        "이는 클래스 메소드의 코드가 개별 객체의 속성에 접근하거나 객체의 정규 메소드를 호출할 수 없음을 의미한다."
      ],
      "metadata": {
        "id": "FWYCpDCKQKLr"
      }
    },
    {
      "cell_type": "markdown",
      "source": [
        "클래스 메소드의 사용 예\n",
        "\n",
        "1. __init__외에 다른 생성자 메소드를 제공하는 경우\n",
        "  -> __init__() 메소드의 파라미터 리스트가 길고 복잡한 상황을 원하지 않을 때 클래스 메소드를 사용해 새 객체 반환"
      ],
      "metadata": {
        "id": "G20RmWZSQ1y2"
      }
    },
    {
      "cell_type": "code",
      "source": [
        "class AsciiArt:\n",
        "  def __init__(self, characters): # 이미지의 텍스트 문자를 문자열로 넘김\n",
        "    self._characters = characters\n",
        "\n",
        "  @classmethod\n",
        "  def fromFile(cls, filename): # 텍스트 파일의 파일 명을 문자열로 넘김\n",
        "    with open(filename) as fileObj:\n",
        "      characters = fileObj.read()\n",
        "      return cls(characters)\n",
        "\n",
        "  def display(self):\n",
        "    print(self._characters)\n",
        "\n",
        "face1 = AsciiArt(' _____\\n' +\n",
        "                 '| . . |\\n'+ \n",
        "                 '|_____|')\n",
        "face1.display()\n"
      ],
      "metadata": {
        "colab": {
          "base_uri": "https://localhost:8080/"
        },
        "id": "SZlpPh9GPpYC",
        "outputId": "84ce2d86-4f29-44da-f0d3-b3fbf98902b8"
      },
      "execution_count": 17,
      "outputs": [
        {
          "output_type": "stream",
          "name": "stdout",
          "text": [
            " _____\n",
            "| . . |\n",
            "|_____|\n"
          ]
        }
      ]
    },
    {
      "cell_type": "code",
      "source": [
        "face2 = AsciiArt.fromFile('face.txt')\n",
        "face2.display()"
      ],
      "metadata": {
        "id": "2T8SMzbzSalZ"
      },
      "execution_count": null,
      "outputs": []
    },
    {
      "cell_type": "markdown",
      "source": [
        "__init__메소드와 fromFIle() 클래스 메소드 모두 AsciiArt 객체를 사용하지만, \n",
        "\n",
        "fromFile() 클래스 메소드를 쓰면 코드가 더 읽기 수월하다."
      ],
      "metadata": {
        "id": "Vs6j_iHqSAUc"
      }
    },
    {
      "cell_type": "markdown",
      "source": [
        "클래스 메소드는 하위 클래스가 클래스 메소드를 상속받을 수 있다.\n",
        "이 때문에 fromFile() 메소드에서 cls(characters)를 호출한다.\n",
        "\n",
        "cls는 이 클래스를 나타내는 객체라는 의미이다.\n",
        "AscillArt()를 호출하면 항상 AsciiArt 클래스의 __init__()을 호출하게 된다.\n",
        "\n",
        "클래스 메소드의 코드가 cls파라미터를 전혀 사용하지 않는다면, 그 클래스는 단지 함수에 불과하다."
      ],
      "metadata": {
        "id": "UbeARfZ6Sg9I"
      }
    },
    {
      "cell_type": "markdown",
      "source": [
        "## 클래스 속성"
      ],
      "metadata": {
        "id": "D36A5ig7TnDv"
      }
    },
    {
      "cell_type": "markdown",
      "source": [
        "클래스 속성은 클래스에 속하는 변수다.\n",
        "\n",
        "클래스 내부,, 그러나 모든 메소드의 외부에 생성한다."
      ],
      "metadata": {
        "id": "IWzZ-tEcToSz"
      }
    },
    {
      "cell_type": "code",
      "source": [
        "class CreateCounter:\n",
        "  count = 0 # 클래스 속성\n",
        "\n",
        "  def __init__(self):\n",
        "    CreateCounter.count += 1\n",
        "\n",
        "print(CreateCounter.count) # 생성된 객체, 0을 출력\n",
        "a = CreateCounter()\n",
        "b = CreateCounter()\n",
        "c = CreateCounter()\n",
        "print(CreateCounter.count) # 생성된 객체, 3을 출력"
      ],
      "metadata": {
        "colab": {
          "base_uri": "https://localhost:8080/"
        },
        "id": "nDqCRe4HTy0g",
        "outputId": "77027c05-2329-4bef-855d-8b422ce0a2ed"
      },
      "execution_count": 18,
      "outputs": [
        {
          "output_type": "stream",
          "name": "stdout",
          "text": [
            "0\n",
            "3\n"
          ]
        }
      ]
    },
    {
      "cell_type": "markdown",
      "source": [
        "모든 CreateCounter 객체는 count 속성을 공유한다"
      ],
      "metadata": {
        "id": "_-LF2V9RULsG"
      }
    },
    {
      "cell_type": "markdown",
      "source": [
        "클래스 속성은 잘 사용되지 않는다.\n",
        "위의 예제도 전역 변수를 사용하는 편이 낫다."
      ],
      "metadata": {
        "id": "9KW9_cQ0URwE"
      }
    },
    {
      "cell_type": "markdown",
      "source": [
        "## 정적 메소드"
      ],
      "metadata": {
        "id": "d9oNvaBYUZqT"
      }
    },
    {
      "cell_type": "markdown",
      "source": [
        "self나 cls 파라미터가 없고, 클래스나 객체의 속성이나 메소드에 접근할 수 없다.\n",
        "\n",
        "=> 사실상 그냥 함수라고 봐도 무방\n",
        "\n",
        "파이썬에서는 특별히 실용적인 가치 없음\n",
        "\n",
        "차라리 함수를 사용하는 게.."
      ],
      "metadata": {
        "id": "SH2Kvt7wUbhM"
      }
    },
    {
      "cell_type": "code",
      "source": [
        "class Example:\n",
        "  @staticmethod # 이 데코레이터를 붙여 정적 메소드를 정의한다.\n",
        "  def hello():\n",
        "    print('넹')"
      ],
      "metadata": {
        "id": "S089TLCxUrou"
      },
      "execution_count": 19,
      "outputs": []
    },
    {
      "cell_type": "markdown",
      "source": [
        "## 객체지향 관련 전문용어"
      ],
      "metadata": {
        "id": "m2XYVjtsUpvq"
      }
    },
    {
      "cell_type": "markdown",
      "source": [
        "### 캡슐화"
      ],
      "metadata": {
        "id": "C_tTLg_8VNdk"
      }
    },
    {
      "cell_type": "markdown",
      "source": [
        "1. 연관된 데이터와 코드를 하나의 단위로 묶는 것\n",
        "\n",
        "        (ex) 위즈코인 클래스는 각각 knuts, sickles, galleons을 나타내기 위한 정수 세 개를 단일 WizCoin 객체에 캡슐화한다\n",
        "\n",
        "2. 객체가 어떻게 작동하는 지에 대한 복잡한 구현 세부사항을 감추는 정보 은닉 기술\n",
        "\n",
        "        (ex) math.sqrt() 함수가 숫자의 제곱근을 계산하는 방법은 알 수 없고, 프로그래머는 그저 함수가 숫자의 제곱근을 반환한다는 점만 알 수 있다."
      ],
      "metadata": {
        "id": "0_yyTlyWVx4c"
      }
    },
    {
      "cell_type": "markdown",
      "source": [
        "### 다형성"
      ],
      "metadata": {
        "id": "6IbmdoqeWU50"
      }
    },
    {
      "cell_type": "markdown",
      "source": [
        "1. 어떤 타입의 객체를 다른 타입의 객체로 취급할 수 있다.\n",
        "\n",
        "      (ex) len()함수 : 전달된 인수의 길이 반환\n",
        "      1. 문자열 -> 문자의 개수\n",
        "      2. 리스트/딕셔너리 -> 몇 개의 아이템을 갖는지 파악\n",
        "\n",
        "  다형성은 여러 타입의 객체를 다룰 수 있기 때문에 제네릭 함수 또는 파라미터 다형성이라고 함\n",
        "\n",
        "2. 애드혹 다형성 / 연산자 오버로드\n",
        "\n",
        "        (ex) + 연산자\n",
        "        1. 정수 -> 덧셈\n",
        "        2. 문자열 -> 문자열 연결 "
      ],
      "metadata": {
        "id": "LvJHYg93WXOT"
      }
    },
    {
      "cell_type": "markdown",
      "source": [
        "## 상속을 사용하지 말아야 할 경우"
      ],
      "metadata": {
        "id": "d9L1n4XNW8pz"
      }
    },
    {
      "cell_type": "markdown",
      "source": [
        "** 단순한 것이 복잡한 것보다 낫다**"
      ],
      "metadata": {
        "id": "pCRVMUdJXAG3"
      }
    },
    {
      "cell_type": "markdown",
      "source": [
        "1. 클래스가 self 또는 cls 파라미터를 전혀 사용하지 않는 메소드 -> 클래스 삭제 후 함수 사용\n",
        "2. 자식 클래스가 하나뿐인 부모 클래스를 만들었지만, 그 부모 클래스의 객체를 전혀 만들지 않은 경우 -> 부모 자식을 단일 클래스로 합침\n",
        "3. 3~4단계 이상의 하위 클래스를 생성한 경우 -> 하위 클래스의 수를 줄임"
      ],
      "metadata": {
        "id": "z1xadWFJXEXg"
      }
    },
    {
      "cell_type": "markdown",
      "source": [
        "OOP 기능은 필요할 때만 사용하자."
      ],
      "metadata": {
        "id": "gmEJj7igXb17"
      }
    },
    {
      "cell_type": "markdown",
      "source": [
        "## 다중 상속"
      ],
      "metadata": {
        "id": "JMnRLEZqXkrP"
      }
    },
    {
      "cell_type": "markdown",
      "source": [
        "파이썬은 여러 부모 클래스를 지원한다."
      ],
      "metadata": {
        "id": "9-GLO2lCXnCj"
      }
    },
    {
      "cell_type": "code",
      "source": [
        "from flyingboat import *\n",
        "seaDuck = FlyingBoat()\n",
        "seaDuck.flyInTheAir()\n",
        "seaDuck.floatOnWater()\n"
      ],
      "metadata": {
        "colab": {
          "base_uri": "https://localhost:8080/"
        },
        "id": "vYD1dNXNYG3Z",
        "outputId": "c127f033-e1ba-475f-dfa6-83c6705ba437"
      },
      "execution_count": 20,
      "outputs": [
        {
          "output_type": "stream",
          "name": "stdout",
          "text": [
            "슝....\n",
            "둥둥......\n"
          ]
        }
      ]
    },
    {
      "cell_type": "markdown",
      "source": [
        "부모 클래스의 메소드 이름이 뚜렷하게 다르고 겹치지 않음\n",
        "\n",
        "이러한 다중 상속은 직관적이다"
      ],
      "metadata": {
        "id": "mmWTWINEYUeV"
      }
    },
    {
      "cell_type": "markdown",
      "source": [
        "하지만\n",
        "부모 클래스인 A, B 모두 C()라는 메소드를 가지고 있다면?\n",
        "\n",
        "-> 파이썬의 메소드 결정 순서에 기반하여 코드가 실행됨"
      ],
      "metadata": {
        "id": "rKrSCQx7Y_RG"
      }
    },
    {
      "cell_type": "markdown",
      "source": [
        "MRO : 메소드를 상속 받을 때나 메소드가 super() 함수를 호출할 때 \n",
        "\n",
        "파이썬이 확인하는 클래스의 순서 있는 리스트이다."
      ],
      "metadata": {
        "id": "zdYFyCECY5Bu"
      }
    },
    {
      "cell_type": "code",
      "source": [
        "from tictactoe import *\n",
        "HybridBoard.mro()"
      ],
      "metadata": {
        "id": "DI8puapQZjcY"
      },
      "execution_count": null,
      "outputs": []
    },
    {
      "cell_type": "markdown",
      "source": [
        "파이썬의 MRO는 C3 알고리즘을 따른다.\n",
        "\n",
        "1. 파이썬은 부모 클래스에 앞서 자식 클래스를 먼저 확인한다.\n",
        "2. 파이썬은 class문의 왼쪽에서 오른쪽의 순서로 상속된 클래스를 확인한다."
      ],
      "metadata": {
        "id": "MFw2QQLoZj0I"
      }
    },
    {
      "cell_type": "markdown",
      "source": [
        "다중 상속은 적은 양의 코드가 많은 기능을 하게 도와주지만 \n",
        "\n",
        "복잡하고 이해하기 어려운 코드를 만들 가능성이 높다"
      ],
      "metadata": {
        "id": "OOFn84N6aDkk"
      }
    }
  ]
}