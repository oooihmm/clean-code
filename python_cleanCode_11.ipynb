{
  "nbformat": 4,
  "nbformat_minor": 0,
  "metadata": {
    "colab": {
      "provenance": [],
      "collapsed_sections": [
        "nRqtGbJi6GgB",
        "lON-5YGb7nzu",
        "aRnyADzO_kOb",
        "voHypuggCuuW",
        "bZuJFGV_OHa5",
        "p5qYQBAHbj95",
        "X28ik1lpeiFz"
      ],
      "authorship_tag": "ABX9TyMR8k6Fop5okhDwsEfA3tI6",
      "include_colab_link": true
    },
    "kernelspec": {
      "name": "python3",
      "display_name": "Python 3"
    },
    "language_info": {
      "name": "python"
    }
  },
  "cells": [
    {
      "cell_type": "markdown",
      "metadata": {
        "id": "view-in-github",
        "colab_type": "text"
      },
      "source": [
        "<a href=\"https://colab.research.google.com/github/oooihmm/clean-code/blob/main/python_cleanCode_11.ipynb\" target=\"_parent\"><img src=\"https://colab.research.google.com/assets/colab-badge.svg\" alt=\"Open In Colab\"/></a>"
      ]
    },
    {
      "cell_type": "markdown",
      "source": [
        "# 주석과 타입 힌트"
      ],
      "metadata": {
        "id": "xaO-ELBC4A3G"
      }
    },
    {
      "cell_type": "markdown",
      "source": [
        "## 1. 주석"
      ],
      "metadata": {
        "id": "nRqtGbJi6GgB"
      }
    },
    {
      "cell_type": "markdown",
      "source": [
        "**주석**\n",
        "\n",
        "    컴퓨터가 무시하는 간단한 설명\n",
        "    코드 작성자를 비롯하여 코드를 읽는 사람에게 도움이 되는 메모나 경고, 기억을 떠올릴 단서를 제공"
      ],
      "metadata": {
        "id": "rRS4zQ104MQg"
      }
    },
    {
      "cell_type": "markdown",
      "source": [
        "**단일행 주석과 다중행 주석**"
      ],
      "metadata": {
        "id": "DY2FHOFA6PEb"
      }
    },
    {
      "cell_type": "code",
      "source": [
        "# 이것은 단일행 주석이다\n",
        "\n",
        "\"\"\" 이것은\n",
        "다중행 문자열로 구성되어\n",
        "다중행 주석으로 사용된다 \"\"\" \n",
        "\n",
        "print(\"주석이 여러 행에 걸쳐있을 경우, 다중행 주석을 사용하는 것이 좋다.\")"
      ],
      "metadata": {
        "colab": {
          "base_uri": "https://localhost:8080/"
        },
        "id": "77vF6Bas6Tvm",
        "outputId": "f032f482-4c4b-4f84-9629-ea2a03af29e4"
      },
      "execution_count": null,
      "outputs": [
        {
          "output_type": "stream",
          "name": "stdout",
          "text": [
            "주석이 여러 행에 걸쳐있을 경우, 다중행 주석을 사용하는 것이 좋다.\n"
          ]
        }
      ]
    },
    {
      "cell_type": "markdown",
      "source": [
        "###주석 스타일"
      ],
      "metadata": {
        "id": "lON-5YGb7nzu"
      }
    },
    {
      "cell_type": "markdown",
      "source": [
        "**1.** </br>\n",
        "주석은 일반적으로 새로운 행에 독자적으로 존재해야 한다.</br>\n",
        "구문이나 단어 하나보다는 완전한 문장이어야 한다.\n",
        "```\n",
        "# 아래 줄 코드에 대한 주석부는 여기에 넣는다.\n",
        "someCode()\n",
        "```"
      ],
      "metadata": {
        "id": "XGZplepU8ub5"
      }
    },
    {
      "cell_type": "markdown",
      "source": [
        "**2.** </br>\n",
        "주석도 행 길이 제한을 준수해야 한다."
      ],
      "metadata": {
        "id": "b5K8sKWI9Hmj"
      }
    },
    {
      "cell_type": "markdown",
      "source": [
        "**3. 블록 주석** </br>\n",
        "여러 행에 걸친 주석은 단일행 주석 여러 개를 연속으로 사용하여 표현한다. </br>\n",
        "블럭 주석의 문단은 비어 있는 단일행 주석을 사용해 구분한다.\n",
        "```\n",
        "# 이 부분은 여러 개의 단일행 주석을\n",
        "# 기호를 이용해 연속으로 배치해 여러 행에 걸치게 만든 블록 주석이다.\n",
        "#\n",
        "# 이런 형태를 블록 주석이라 부른다.\n",
        "```"
      ],
      "metadata": {
        "id": "xkM7rqSz9JBR"
      }
    },
    {
      "cell_type": "markdown",
      "source": [
        "**4.** </br>\n",
        "주석은 주석 대상 코드와 동일한 수준으로 들여쓰기를 해야 한다.\n",
        "```\n",
        "if someCondition:\n",
        "  # 또 다른 코드에 대한 주석부는 여기에 넣는다.\n",
        "  someOtherCode()\n",
        "```"
      ],
      "metadata": {
        "id": "XqwdkAyY9MX1"
      }
    },
    {
      "cell_type": "markdown",
      "source": [
        "**5. 인라인 주석** </br>\n",
        " 코드 뒤에 따라오는 주석은 적어도 두 칸을 띄우고 작성해야 한다.\n",
        " ```\n",
        " otherCode()  # 이 형태는 인라인 주석이다.\n",
        " ```"
      ],
      "metadata": {
        "id": "Xgnyc6nj9ZXK"
      }
    },
    {
      "cell_type": "markdown",
      "source": [
        "**6.** </br>\n",
        " 단일행 주석을 작성할 때, # 뒤에 반드시 공백을 둬야 한다.\n",
        " ```\n",
        " #기호 뒤에 공백 없이 주석을 쓰는 잘못된 사례이다.\n",
        " ```"
      ],
      "metadata": {
        "id": "RhEGerSg-X3U"
      }
    },
    {
      "cell_type": "markdown",
      "source": [
        "**7.** </br> URL 링크가 주석을 대체해서는 안 된다. </br>\n",
        "해당 링크 내용은 언제라도 인터넷에서 사라질 수 있기 때문이다."
      ],
      "metadata": {
        "id": "l_HU4VzT-oWK"
      }
    },
    {
      "cell_type": "markdown",
      "source": [
        "### 주석의 종류와 작성 방법"
      ],
      "metadata": {
        "id": "aRnyADzO_kOb"
      }
    },
    {
      "cell_type": "markdown",
      "source": [
        "**인라인 주석**"
      ],
      "metadata": {
        "id": "tzaGx55uFKtJ"
      }
    },
    {
      "cell_type": "markdown",
      "source": [
        "**1.**\n",
        "```\n",
        "while True:  # 플레이어가 유효한 이동 명령을 입력할 때까지 계속 질문한다\n",
        "```\n",
        "인라인 주석은 **코드행 끝**에 넣어준다."
      ],
      "metadata": {
        "id": "Pqk66tYIAAY_"
      }
    },
    {
      "cell_type": "markdown",
      "source": [
        "**2. 인라인 주석의 일반적인 사용법**\n",
        "* 변수에 대해 목적을 설명하거나 맥락을 제공한다.\n",
        "```\n",
        "TOTAL_DISKS = 5  # 원판이 많을수록 퍼즐은 어려워진다.\n",
        "```\n",
        "* 변수를 생성할 때 변수 값에 대한 맥락을 추가한다.\n",
        "```\n",
        "month = 2  # 범위는 0(1월)부터 11(12월)까지\n",
        "```"
      ],
      "metadata": {
        "id": "AEDBFKYLACer"
      }
    },
    {
      "cell_type": "markdown",
      "source": [
        "**3. 인라인 주석 작성시 주의 사항**\n",
        "* 인라인 주석으로 변수의 데이터 타입을 명시해서는 안 된다. </br>\n",
        "다만, 타입 힌트의 주석 형태로 지정할 수는 있다."
      ],
      "metadata": {
        "id": "ayZA-ncSBeLJ"
      }
    },
    {
      "cell_type": "markdown",
      "source": [
        "\n",
        "\n",
        "---\n",
        "\n"
      ],
      "metadata": {
        "id": "eRMdnqSiFcjx"
      }
    },
    {
      "cell_type": "markdown",
      "source": [
        "**설명 주석**"
      ],
      "metadata": {
        "id": "rGAKCZRCBtA9"
      }
    },
    {
      "cell_type": "markdown",
      "source": [
        "**1.**</br>\n",
        "주석은 해당 코드가 그와 같이 작성된 이유를 설명해줘야 한다."
      ],
      "metadata": {
        "id": "16HUSZUwBzZ-"
      }
    },
    {
      "cell_type": "markdown",
      "source": [
        "**2.**</br>\n",
        "잘 작성된 주석은 코드가 전할 수 없는 '맥락'을 제공한다.\n",
        "* 잘못 작성된 주석\n",
        "```\n",
        "currentWeekWages *= 1.5  # 현재 주급의 1.5배\n",
        "```\n",
        "=> 코드부를 만든 의도를 암시하지 않고 명백한 사항만 명시함.</br></br>\n",
        "* 잘 작성된 주석\n",
        "```\n",
        "currentWeekWages *= 1.5  # 초과 근무 시간 반영\n",
        "```\n",
        "=> 코드의 작동 방식을 되풀이하지 않고 코드 행 이면에 숨은 의도를 설명함.\n"
      ],
      "metadata": {
        "id": "bDSXtDHkCGFM"
      }
    },
    {
      "cell_type": "markdown",
      "source": [
        "---"
      ],
      "metadata": {
        "id": "07EBMnaFFiXn"
      }
    },
    {
      "cell_type": "markdown",
      "source": [
        "**요약 주석**"
      ],
      "metadata": {
        "id": "voHypuggCuuW"
      }
    },
    {
      "cell_type": "markdown",
      "source": [
        "**1.**</br>\n",
        "요약 주석이란 여러 줄의 코드를 요약한 주석으로, 코드를 읽는 사람이 소스 코드가 어떤 기능을 하는지 파악하는 것을 돕는다."
      ],
      "metadata": {
        "id": "1Dd7tz8FCw1N"
      }
    },
    {
      "cell_type": "markdown",
      "source": [
        "**2.**\n",
        "```\n",
        "# 다른 플레이어에게 차례를 넘김\n",
        "if playerTurn == PLAYER_X:\n",
        "  playerTurn == PLAYER_O\n",
        "elif playerTurn == PLAYER_O:\n",
        "  playerTurn == PLAYER_X\n",
        "```\n",
        "위와 같이 요약 주석은 보통 코드 문단의 시작부분의 첫 줄에 작성한다.</br>\n",
        "요약 주석은 단일행 주석에 비해 더 높은 추상화 수준에서 코드의 기능을 설명한다."
      ],
      "metadata": {
        "id": "zF5leK_uD1zm"
      }
    },
    {
      "cell_type": "markdown",
      "source": [
        "---"
      ],
      "metadata": {
        "id": "kYkrwmAJFmBL"
      }
    },
    {
      "cell_type": "markdown",
      "source": [
        "**경험 지식을 담은 주석**"
      ],
      "metadata": {
        "id": "MSds3M_NDNPJ"
      }
    },
    {
      "cell_type": "markdown",
      "source": [
        "**1.** </br>\n",
        "개발 과정을 경험하며 얻을 수 있는 세부 사항들을 작성한 주석이다.<br>\n",
        "소스 코드를 읽는 사람들이 코드를 오해하거나 세부 사항을 간과하여 시간을 허비하는 것을 막는 역할을 한다."
      ],
      "metadata": {
        "id": "skGkWKd6FpDV"
      }
    },
    {
      "cell_type": "markdown",
      "source": [
        "---"
      ],
      "metadata": {
        "id": "ZxK_USQYGztW"
      }
    },
    {
      "cell_type": "markdown",
      "source": [
        "**법무 정보를 담은 주석**"
      ],
      "metadata": {
        "id": "pnafVbjiG07-"
      }
    },
    {
      "cell_type": "markdown",
      "source": [
        "**1.** </br>\n",
        "법적인 이유에 의해 소스 코드 파일 상단의 주석에 작성하는 판권, 소프트웨어 라이선스, 저작권 정보 등을 담은 주석이다."
      ],
      "metadata": {
        "id": "831pgQTCG8ma"
      }
    },
    {
      "cell_type": "markdown",
      "source": [
        "**2.**</br>\n",
        "```\n",
        "\"\"\"Cat Herder 3.0 Copyright (C) 2021 Al Sweigart. All rights reserved.\n",
        "See license. txt for the full text.\"\"\"\n",
        "```\n",
        "위와 같이 라이선스 전체 텍스트가 담긴 외부 문서나 웹 사이트를 참조하도록 작성하는 것이 좋다."
      ],
      "metadata": {
        "id": "yCcy_SqZHJlh"
      }
    },
    {
      "cell_type": "markdown",
      "source": [
        "---"
      ],
      "metadata": {
        "id": "g_La89SMHofM"
      }
    },
    {
      "cell_type": "markdown",
      "source": [
        "**전문적인 주석**"
      ],
      "metadata": {
        "id": "sj_FLDgtHpUI"
      }
    },
    {
      "cell_type": "markdown",
      "source": [
        "**1.**<br>\n",
        "주석은 정중하고 직설적이며 웃음기를 제외한 어조로 작성한다."
      ],
      "metadata": {
        "id": "1EXKQuZqHunp"
      }
    },
    {
      "cell_type": "markdown",
      "source": [
        "---"
      ],
      "metadata": {
        "id": "7j44Nqz7H1RN"
      }
    },
    {
      "cell_type": "markdown",
      "source": [
        "**코드 태그**"
      ],
      "metadata": {
        "id": "SJil2P4TH2R3"
      }
    },
    {
      "cell_type": "markdown",
      "source": [
        "**1.**</br>\n",
        "전체 대문자 레이블 뒤에 간단한 설명이 뒤따르는 형태의 주석이다.</br>\n",
        "상황에 따라 다음과 같은 몇 가지 코드 태그를 사용할 수 있다.\n",
        "```\n",
        "TODO: 해야 할 일에 대한 내용을 상기\n",
        "FIXME: 코드의 해당 부분이 전혀 동작하지 않음을 상기\n",
        "HACK: 코드가 동작하긴 하나 추후 개선이 필요함을 상기\n",
        "XXX: 간혹 심각도가 높아지는, 일단적인 경고\n",
        "```"
      ],
      "metadata": {
        "id": "V4qnHzEyIBMj"
      }
    },
    {
      "cell_type": "markdown",
      "source": [
        "**2. 작성 방법**\n",
        "* 레이블은 반드시 대문자로 표기한다\n",
        "* 레이블 뒤에는 각기 당면한 작업이나 문제에 대한 설명을 담는다\n",
        "```\n",
        "someCode()  # TODO: 왜 매주 화요일이면 장애가 발생하는지, 원인 파악 필요\n",
        "```"
      ],
      "metadata": {
        "id": "z3j8pEmUI6mM"
      }
    },
    {
      "cell_type": "markdown",
      "source": [
        "**3. 유의 사항**\n",
        "* 코드 태그는 정식 이슈 추적 시스템이나 버그 리포트 도구를 대체해서는 안 된다.\n",
        "* TODO만 활용하고 나머지는 삼가는 방식으로 간단히 유지하는 것이 좋다."
      ],
      "metadata": {
        "id": "PAOvzsCdIpQ_"
      }
    },
    {
      "cell_type": "markdown",
      "source": [
        "---"
      ],
      "metadata": {
        "id": "Lg2_xNuIJfrp"
      }
    },
    {
      "cell_type": "markdown",
      "source": [
        "**매직 주석과 소스 파일 인코딩**"
      ],
      "metadata": {
        "id": "eb_dYqddJg88"
      }
    },
    {
      "cell_type": "markdown",
      "source": [
        "**1. 매직 주석** </br>\n",
        "인터프리터 또는 인코딩 정보를 제공한다\n",
        "```\n",
        "#!/usr/bin/env python3        ---(1)\n",
        "# -*- coding: utf-8 -*-        ---(2)\n",
        "```\n",
        "\n",
        "(1) : 셔뱅(shebang)행\n",
        "* #!로 이루어짐\n",
        "* 파일의 명령어를 실행하기 위해 사용할 인터프리터를 운영체제에 알려줌\n",
        "\n",
        "(2) : 인코딩 정의 행\n",
        "* 소스 파일에서 사용할 인코딩 방식을 지정"
      ],
      "metadata": {
        "id": "RmsOsP96J6PI"
      }
    },
    {
      "cell_type": "markdown",
      "source": [
        "## 2. 독스트링"
      ],
      "metadata": {
        "id": "bZuJFGV_OHa5"
      }
    },
    {
      "cell_type": "markdown",
      "source": [
        "**독스트링**\n",
        "    \n",
        "    함수, 메소드, 모듈에 대한 파이썬 문서 형식\n",
        "    주석을 독스트링 형식으로 지정하면 문서 생성기나 파이썬의 내장 help() 모듈등을 통해 코드에 대한 정보를 쉽게 파악 가능"
      ],
      "metadata": {
        "id": "VPWZI01a5BAe"
      }
    },
    {
      "cell_type": "markdown",
      "source": [
        "**1. 독스트링 작성 방법**\n",
        "* 삼중 큰따옴표(\"\"\")로 인용되는 다중행 주석 사용\n",
        "* 기술적인 정보를 담아 작성\n",
        "* 모듈이나 클래스, 함수의 맨 위에 독스트링을 배치하여 정보를 쉽게 검토하고 업데이트\n",
        "* 모듈이나 클래스, 함수를 요약하는 하나의 행 다음에 빈 행 하나가 들어가고, 더 자세한 정보가 이어져서 나와야 함"
      ],
      "metadata": {
        "id": "9RoJnFT5PLNZ"
      }
    },
    {
      "cell_type": "markdown",
      "source": [
        "**2. 독스트링 검색**</br>\n",
        "* 각 객체의 `__doc__`속성을 점검하는 방식으로 모듈, 클래스, 함수, 메소드 등에 대한 독스트링 검색 가능\n",
        "```\n",
        ">>> from requests import sessions\n",
        ">>> sessions.__doc__\n",
        "```\n",
        "* 자동화된 문서화 도구는 독스트링을 사용해 상황에 맞는 적절한 정보 제공\n",
        "(ex) help()함수\n",
        "```\n",
        ">>> from requests import sessions\n",
        ">>> help(sessions)\n",
        "```\n",
        "함수에 전달된 객체의 독스트링을 `__doc__`문자열보다 더 가독성이 높은 형식으로 표시</br>\n",
        "사용하려는 모듈이나 클래스, 함수에 대한 정보를 즉시 끌어올릴 수 있어 대화형 셸에서 실험할 때 유용\n",
        "\n",
        "\n"
      ],
      "metadata": {
        "id": "nmdQa856UFy7"
      }
    },
    {
      "cell_type": "markdown",
      "source": [
        "## 3. 타입 힌트"
      ],
      "metadata": {
        "id": "5IcfpD0H6K8-"
      }
    },
    {
      "cell_type": "markdown",
      "source": [
        "**타입 힌트**\n",
        "\n",
        "    변수, 파라미터, 반환값의 데이터 타입을 명세하기 위해 파이썬 소스 코드에 추가할 수 있는 지시자\n",
        "    정적 코드 분석 도구가 타입이 잘못 지정된 값으로 인해 코드가 예외를 일으키지 않는지 확인 가능"
      ],
      "metadata": {
        "id": "hcWBUnIB5vQ1"
      }
    },
    {
      "cell_type": "markdown",
      "source": [
        "**1. 타입 힌트 작성 방법**</br>\n",
        "파라미터나 변수의 경우 타입 힌트는 콜론을 사용해 이름과 타입을 구분하고, 반환값는 화살표(->)를 사용해 def문의 닫힘 괄호와 타입을 구분한다.\n",
        "```\n",
        "def describeNumber(number: int) -> str:\n",
        "  if number % 2 == 1:\n",
        "    retrun 'An odd number'\n",
        "  elif number == 42:\n",
        "    return 'The answer'\n",
        "  else:\n",
        "    retrun 'Yes, that is a number'\n",
        "\n",
        "myLuckyNumber: int = 42\n",
        "print(describeNumber(myLuckyNumber))\n",
        "```\n",
        "위의 함수의 타입 힌트는 숫자 파라미터에 대해 정수값을 취하고 문자열값을 반환함을 보여준다."
      ],
      "metadata": {
        "id": "kWnwwCk3ZKjO"
      }
    },
    {
      "cell_type": "markdown",
      "source": [
        "**2. 타입 힌트의 의의**</br>\n",
        "정적 타입 검사 도구가 변수에 대한 타입 힌트를 반드시 요구하지는 않는다. </br> 정적 타입 검사 도구가 변수의 첫 할당문에서 타입을 추론하기 때문이다.\n",
        "\n",
        "하지만, 프로그램의 타입 힌트가  많을수록, 정적 코드 분석 도구가 프로그램의 잠재적 버그를 찾아낼 수 있는 정보도 많아진다."
      ],
      "metadata": {
        "id": "DxXNkwCC5_bu"
      }
    },
    {
      "cell_type": "markdown",
      "source": [
        "### 3. 정적 분석 도구 사용"
      ],
      "metadata": {
        "id": "p5qYQBAHbj95"
      }
    },
    {
      "cell_type": "markdown",
      "source": [
        "**1. 타입 힌트와 정적 분석 도구** </br>\n",
        "정적 분석 도구 : 프로그램이 실행되기 전에 소스 코드를 분석\n",
        "\n",
        "  타입 힌트는 파이썬 인터프리터가 런타임 타입 검사를 수행하도록 강제하지 않는다.</br>\n",
        "  따라서 타입 힌트는 정적 타입 검사 도구를 위해 존재한다고 볼 수 있다."
      ],
      "metadata": {
        "id": "WSaTv2FJbnCH"
      }
    },
    {
      "cell_type": "markdown",
      "source": [
        "**2. 마이파이의 설치와 실행**\n",
        "```\n",
        "python -m pip install -user mypy\n",
        "```\n",
        "마이파이는 현재 가장 인기있는 비공식 타입 검사기이다.\n",
        "</br>\n",
        "```\n",
        "python -m mypy <파일명>.py\n",
        "```\n",
        "타입 검사기를 사용하려면 명령 프롬프트나 터마널 창을 열고 위의 명령어를 실행하면 된다. </br>\n",
        "타입 검사기는 문제가 없으면 아무것도 출력하지 않고, 문제가 있는 경우에만 에러 메시지를 출력한다.\n",
        "</br>\n",
        "코드를 바꿀 때마다 명령행에서 마이파이를 실행하는 방식은 다소 비효율적이므로 IDE나 텍스트 편집기를 구성해 백그라운드 작업으로 실행하는 편이 더 좋다."
      ],
      "metadata": {
        "id": "KG944dOnciRx"
      }
    },
    {
      "cell_type": "markdown",
      "source": [
        "**3. 마이파이에게 특정 코드를 무시하게 요청** </br>\n",
        "타입 힌트 경고를 받지 않게 코드를 작성하고 싶은 경우, </br> 행 끝에 `# type: ignore` 주석을 추가하여 모든 타입 힌트 경고를 표시하지 않게 만들 수 있다. \n",
        "\n",
        "\n",
        "타입 검사기의 경고를 무시하면 버그가 코드에 몰래 침입할 수 있는 통로가 생긴다. </br> 따라서 해당 주석의 사용을 줄이고, 경고가 발생하지 않도록 코드를 다시 작성하는 것이 좋다."
      ],
      "metadata": {
        "id": "bu4JYtDUdo7n"
      }
    },
    {
      "cell_type": "markdown",
      "source": [
        "### 4. 타입 힌트를 다중 타입으로 설정"
      ],
      "metadata": {
        "id": "X28ik1lpeiFz"
      }
    },
    {
      "cell_type": "markdown",
      "source": [
        "**1.**</br>파이썬의 변수, 파라미터, 리턴 값은 다중 데이터 타입을 가질 수 있다.\n",
        "</br> 이를 수용하기 위해 내장된 typing 모듈에서 Union을 임포트하면 다중 타입 힌트를 지정할 수 있다.\n",
        "```\n",
        "From typing import Union\n",
        "spam: Union[int, str, float] = 42\n",
        "```\n",
        "이 예제에서 Union[int, str, float]라는 타입 힌트는 spam을 정수나 문자열, 부동소수점 수로 설정할 수 있음을 명시한다."
      ],
      "metadata": {
        "id": "FFZXqTvlepWy"
      }
    },
    {
      "cell_type": "markdown",
      "source": [
        "**2.**</br>\n",
        "typing모듈에서 Optional을 임포트하여 함수 또는 메소드가 기대하는 타입의 값이 아닌 None을 반환할 수 있음을 나타낼 수 있다.\n",
        "```\n",
        "from typing import Opitonal\n",
        "lastName: Optional[str] = None\n",
        "```"
      ],
      "metadata": {
        "id": "Y3SVKqOdfPNC"
      }
    },
    {
      "cell_type": "markdown",
      "source": [
        "**3.**\n",
        "Any타입 힌트를 사용하여 변수나 파라미터, 반환값이 임의의 데이터 타입이 되도록 지정할 수 있다.\n",
        "```\n",
        "From typing import Any\n",
        "spam: Any = 42\n",
        "```\n",
        "\n",
        "타입 힌트로 object도 사용할 수 있으나, Any가 object보다 훨씬 더 쉽게 이해할 수 있는 타입 힌트다."
      ],
      "metadata": {
        "id": "bwBXu9EUlA-g"
      }
    },
    {
      "cell_type": "markdown",
      "source": [
        "**4.**</br>\n",
        "Union과 Optional은 적게 사용하는 것이 좋다. </br>\n",
        "변수와 함수가 허용하는 타입이 적을수록 코드가 단순해지며, 버그 발생률이 낮아지기 때문이다.\n",
        "\n",
        "Any도 되도록 적게 사용하는 것이 좋다. </br>\n",
        "모든 변수, 파라미터, 반환값을 Any 타입 힌트로 설정하면 정적 타입의 타입 점검이라는 장점이 사라진다.\n"
      ],
      "metadata": {
        "id": "h6frVkJklUQC"
      }
    },
    {
      "cell_type": "markdown",
      "source": [
        "### 5. 리스트, 딕셔너리 등을 위한 타입 힌트 설정"
      ],
      "metadata": {
        "id": "woGo9Va7l5oC"
      }
    },
    {
      "cell_type": "markdown",
      "source": [
        "**1.**</br>\n",
        "리스트 등의 내부 값의 데이터 타입을 구체적으로 선언하려면 typing 모듈의 List 타입 힌트를 사용해야 한다.\n",
        "```\n",
        "from typing import List, Union\n",
        "catNames: List[str] = ['..', '..', ..., '..']\n",
        "numbers: List[Union[int, float]] = [42, 3.14, ..., 86]\n",
        "```"
      ],
      "metadata": {
        "id": "BFvc2SQkmRGa"
      }
    },
    {
      "cell_type": "markdown",
      "source": [
        "**2.**\n",
        "typing 모듈은 컨테이너 타입마다 별도의 타입 별칭을 가진다."
      ],
      "metadata": {
        "id": "apQjOa7xm5_u"
      }
    },
    {
      "cell_type": "markdown",
      "source": [
        "### 6. 주석을 활용한 타입 힌트 백포팅"
      ],
      "metadata": {
        "id": "r--ge-JwnBQ8"
      }
    },
    {
      "cell_type": "markdown",
      "source": [
        "**1.** </br>\n",
        "백포팅이란 소프트웨어의 새로운 버전에서 기능을 가져와 이전 버전으로 이식과 추가를 하는 과정을 말한다. \n",
        "\n",
        "주석은 `type:`으로 시작하며, 그 뒤에 데이터 타입이 따라 나온다. </br>\n",
        "주석 타입 힌트 스타일을 사용하는 경우에도 주석에서 사용하는 모든 타입 별칭은 물론 typing모듈을 임포트할 필요가 있다."
      ],
      "metadata": {
        "id": "5Z2hmhUMnE1a"
      }
    }
  ]
}